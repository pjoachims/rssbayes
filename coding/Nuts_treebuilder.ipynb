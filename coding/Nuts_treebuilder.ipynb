{
 "cells": [
  {
   "cell_type": "markdown",
   "metadata": {},
   "source": [
    "# testing the Build tree function of the NUTS sampler (much simplified)"
   ]
  },
  {
   "cell_type": "code",
   "execution_count": 93,
   "metadata": {},
   "outputs": [],
   "source": [
    "import numpy as np\n",
    "import copy\n",
    "import matplotlib.pyplot as plt\n",
    "\n",
    "from dataclasses import dataclass\n",
    "\n",
    "# define some helper functions\n",
    "def sample_momentum_vector(D=2, eta=0.05):\n",
    "    means = np.zeros(D)\n",
    "    cov = np.eye(D)\n",
    "    return eta*(np.random.multivariate_normal(means, cov, 1).flatten())\n",
    "\n",
    "def rotate_vector_2d(vector, phi_d):\n",
    "    phi = phi_d*np.pi/180\n",
    "    vec = vector.reshape(len(vector),1)\n",
    "    R = np.array([[np.cos(phi), -np.sin(phi)],\n",
    "                  [np.sin(phi), np.cos(phi)]])\n",
    "    return (R@vec).flatten()\n",
    "   \n",
    "def check_uturn(sample_right, sample_left):\n",
    "    theta_diff = sample_right.theta - sample_left.theta\n",
    "    eval_ = (np.dot(theta_diff, sample_right.r) > 0) & (np.dot(theta_diff, sample_left.r) > 0)\n",
    "    if eval_ == False: \n",
    "        print(\"U-turn between:\", sample_right.time, sample_left.time)\n",
    "        x, y = sample_left.theta[0], sample_left.theta[1]\n",
    "        dx,dy = theta_diff[0], theta_diff[1]\n",
    "        plt.arrow(x, y, dx, dy, color = \"black\", width=0.0001, head_width=0.0004)\n",
    "        sample_right.plot_momentum(0.5)\n",
    "        sample_left.plot_momentum(0.5)\n",
    "\n",
    "    return (eval_)\n",
    "        \n",
    "iter_color_dict = {0:\"black\",1:\"green\",2:\"blue\",3:\"orange\",\n",
    "                   4:\"magenta\",5:\"darkblue\", 6:\"yellow\", \n",
    "                   7:\"lightgreen\", 8:\"black\", 9:\"blue\"}\n",
    "\n",
    "@dataclass\n",
    "class nutsSample:\n",
    "    time:              int = None\n",
    "    iteration:         int = None\n",
    "    theta:             list = None\n",
    "    r:                 list = None\n",
    "    valid:             bool = True\n",
    "        \n",
    "    def copy(self):\n",
    "        return copy.deepcopy(self)\n",
    "    \n",
    "    def plot(self):\n",
    "        self.plot_sample()\n",
    "        self.plot_momentum()\n",
    "        \n",
    "    def plot_sample(self):\n",
    "        c = iter_color_dict[(self.iteration)%10]\n",
    "        plt.scatter(self.theta[0],self.theta[1],color=c)\n",
    "        \n",
    "    def plot_momentum(self, fac=1/10):\n",
    "        x, y = self.theta[0], self.theta[1]\n",
    "        dx, dy = self.r[0], self.r[1]\n",
    "        plt.arrow(x, y, fac*dx, fac*dy, color = \"red\", width=0.00005, head_width=0.0002)\n",
    "        \n",
    "    def plot_text(self):\n",
    "        plt.text(self.theta[0], self.theta[1], self.time)\n",
    "        \n",
    "    def leapfrog(self, eps):\n",
    "        self.theta, self.r = leapfrog(self.theta, self.r, eps)\n",
    "        \n",
    "def leapfrog(theta, r, eps):\n",
    "    phi_d = np.random.rand()*(40-(-40))-40\n",
    "    phi_d = phi_d/1\n",
    "    r = rotate_vector_2d(r, phi_d/2)\n",
    "    theta = theta + eps*r\n",
    "    r = rotate_vector_2d(r, phi_d/2)\n",
    "    return (theta, r)\n",
    "        \n",
    "def build_naive_tree(sample, height, direction, eps, iteration):\n",
    "    if height == 0:\n",
    "        s = sample.copy()\n",
    "        s.iteration = iteration\n",
    "        s.time = sample.time+direction\n",
    "        s.leapfrog(direction*eps)\n",
    "        crit1 = np.random.rand() > 0.01\n",
    "        if crit1==False: print(\"breaking cause sample at time:\", s.time, \"has too low probability\")\n",
    "        C1 = []\n",
    "        C1.append(s)\n",
    "        return(s, s, C1, crit1)\n",
    "    else:\n",
    "        s_minus, s_plus, C1, crit1 = build_naive_tree(sample, height-1, direction, eps, iteration)\n",
    "        if direction == -1:\n",
    "            s_minus, tmp, C2, crit2 = build_naive_tree(s_minus, height-1, direction, eps, iteration)\n",
    "        else:\n",
    "            tmp, s_plus, C2, crit2 = build_naive_tree(s_plus, height-1, direction, eps, iteration)\n",
    "        crit1 = crit1*crit2*check_uturn(s_plus, s_minus)\n",
    "        C1 = C1 + C2\n",
    "        return (s_minus, s_plus, C1, crit1)\n",
    "    \n",
    "def naive_NUTS(eps, max_depth=15):\n",
    "    s0 = nutsSample(time=0, iteration=0, theta=[0,0])\n",
    "    s0.r = sample_momentum_vector()\n",
    "    s_plus = s_minus = s0\n",
    "    C = [s0]\n",
    "    all_samples = [s0]\n",
    "    j = 0\n",
    "    crit = 1\n",
    "    while crit == 1:\n",
    "        d = 1 - 2*np.random.randint(2)\n",
    "        if d == -1:\n",
    "            s_minus, tmp, C1, crit1 = build_naive_tree(s_minus, j, d, eps, j+1)\n",
    "        else: \n",
    "            tmp, s_plus, C1, crit1 = build_naive_tree(s_plus, j, d, eps, j+1)\n",
    "        all_samples += C1\n",
    "        if crit1 == 1: C = C + C1\n",
    "        crit = crit1*check_uturn(s_plus, s_minus)\n",
    "        j = j + 1\n",
    "        if j==max_depth: \n",
    "            print(\"max iterations reached\")\n",
    "            break\n",
    "        final_sample = sample_from_set(C)\n",
    "    return (final_sample, C, all_samples)\n",
    "\n",
    "def sample_from_set(C):\n",
    "    return (C[np.random.randint(len(C))])\n",
    "\n",
    "def samples_to_t_dict(samples):\n",
    "    t_dict = {}\n",
    "    for sample in samples:\n",
    "        t_dict[sample.time] = sample\n",
    "    return (t_dict)"
   ]
  },
  {
   "cell_type": "code",
   "execution_count": 96,
   "metadata": {},
   "outputs": [
    {
     "name": "stdout",
     "output_type": "stream",
     "text": [
      "U-turn between: -4 -11\n",
      "U-turn between: 4 -11\n"
     ]
    },
    {
     "data": {
      "image/png": "[encoded data removed]",
      "text/plain": [
       "<Figure size 432x288 with 1 Axes>"
      ]
     },
     "metadata": {
      "needs_background": "light"
     },
     "output_type": "display_data"
    }
   ],
   "source": [
    "final_sample, C, a_s = naive_NUTS(0.4)\n",
    "\n",
    "for sample in a_s:\n",
    "    sample.plot_sample()\n",
    "    sample.plot_text()"
   ]
  },
  {
   "cell_type": "code",
   "execution_count": 97,
   "metadata": {},
   "outputs": [
    {
     "data": {
      "text/plain": [
       "<matplotlib.collections.PathCollection at 0x7f4ad9139710>"
      ]
     },
     "execution_count": 97,
     "metadata": {},
     "output_type": "execute_result"
    },
    {
     "data": {
      "image/png": "[encoded data removed]",
      "text/plain": [
       "<Figure size 432x288 with 1 Axes>"
      ]
     },
     "metadata": {
      "needs_background": "light"
     },
     "output_type": "display_data"
    }
   ],
   "source": [
    "for sample in C:\n",
    "    sample.plot_sample()\n",
    "    sample.plot_text()\n",
    "\n",
    "x,y = list(final_sample.theta)\n",
    "plt.scatter(x,y,s = 150, c = \"red\")"
   ]
  }
 ],
 "metadata": {
  "kernelspec": {
   "display_name": "Python 3",
   "language": "python",
   "name": "python3"
  },
  "language_info": {
   "codemirror_mode": {
    "name": "ipython",
    "version": 3
   },
   "file_extension": ".py",
   "mimetype": "text/x-python",
   "name": "python",
   "nbconvert_exporter": "python",
   "pygments_lexer": "ipython3",
   "version": "3.7.4"
  }
 },
 "nbformat": 4,
 "nbformat_minor": 2
}
