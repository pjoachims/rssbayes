{
 "cells": [
  {
   "cell_type": "code",
   "execution_count": 185,
   "metadata": {},
   "outputs": [],
   "source": [
    "# testing the Build tree function"
   ]
  },
  {
   "cell_type": "code",
   "execution_count": 317,
   "metadata": {},
   "outputs": [],
   "source": [
    "import numpy as np\n",
    "import copy\n",
    "import matplotlib.pyplot as plt\n",
    "\n",
    "from dataclasses import dataclass\n",
    "\n",
    "def sample_momentum_vector(D=2, eta=0.05):\n",
    "    means = np.zeros(D)\n",
    "    cov = np.eye(D)\n",
    "    return eta*(np.random.multivariate_normal(means, cov, 1).flatten())\n",
    "\n",
    "def rotate_vector_2d(vector, phi_d):\n",
    "    phi = phi_d*np.pi/180\n",
    "    vec = vector.reshape(len(vector),1)\n",
    "    R = np.array([[np.cos(phi), -np.sin(phi)],\n",
    "                  [np.sin(phi), np.cos(phi)]])\n",
    "    return (R@vec).flatten()\n",
    "\n",
    "def leapfrog(theta, r, eps):\n",
    "    phi_d = np.random.rand()*(40-(-40))-40\n",
    "    r = rotate_vector_2d(r, phi_d/2)\n",
    "    theta = theta + eps*r\n",
    "    r = rotate_vector_2d(r, phi_d/2)\n",
    "    return (theta, r)\n",
    "    \n",
    "\n",
    "iter_color_dict = {0:\"black\",1:\"green\",2:\"blue\",3:\"orange\",\n",
    "                   4:\"magenta\",5:\"darkblue\", 6:\"yellow\", \n",
    "                   7:\"lightgreen\", 8:\"black\", 9:\"blue\"}\n",
    "\n",
    "@dataclass\n",
    "class nutsSample:\n",
    "    time:              int = None\n",
    "    iteration:         int = None\n",
    "    theta:             list = None\n",
    "    r:                 list = None\n",
    "    valid:             bool = True\n",
    "        \n",
    "    def copy(self):\n",
    "        return copy.deepcopy(self)\n",
    "    \n",
    "    def plot(self):\n",
    "        self.plot_sample()\n",
    "        self.plot_momentum()\n",
    "        \n",
    "    def plot_sample(self):\n",
    "        c = iter_color_dict[(self.iteration)%10]\n",
    "        plt.scatter(self.theta[0],self.theta[1],color=c)\n",
    "        \n",
    "    def plot_momentum(self):\n",
    "        fac = 1/10\n",
    "        x2, y2 = self.theta[0]+fac*self.r[0], self.theta[1]+fac*self.r[1]\n",
    "        plt.plot([self.theta[0],x2],[self.theta[1],y2], 'r-')\n",
    "        \n",
    "    def leapfrog(self, eps):\n",
    "        self.theta, self.r = leapfrog(self.theta, self.r, eps)\n",
    "        \n",
    "def build_naive_tree(sample, height, direction, eps, iteration):\n",
    "    if height == 0:\n",
    "        s = sample.copy()\n",
    "        s.iteration = iteration\n",
    "        s.time = sample.time+direction\n",
    "        s.leapfrog(direction*eps)\n",
    "        crit1 = np.random.rand() > 0.05\n",
    "        C1 = []\n",
    "        C1.append(s)\n",
    "        return(s, s, C1, crit1)\n",
    "    else:\n",
    "        s_minus, s_plus, C1, crit1 = build_naive_tree(sample, height-1, direction, eps, iteration)\n",
    "        if direction == -1:\n",
    "            s_minus, tmp, C2, crit2 = build_naive_tree(s_minus, height-1, direction, eps, iteration)\n",
    "        else:\n",
    "            tmp, s_plus, C2, crit2 = build_naive_tree(s_plus, height-1, direction, eps, iteration)\n",
    "        crit1 = crit1*crit2\n",
    "        C1 = C1 + C2\n",
    "        return (s_minus, s_plus, C1, crit1)\n",
    "    \n",
    "def naive_NUTS(eps, max_depth=8):\n",
    "    s0 = nutsSample(time=0, iteration=0, theta=[0,0])\n",
    "    s0.r = sample_momentum_vector()\n",
    "    s_plus = s_minus = s0\n",
    "    C = [s0]\n",
    "    j = 0\n",
    "    crit = 1\n",
    "    while crit == 1:\n",
    "        d = 1 - 2*np.random.randint(2)\n",
    "        if d == -1:\n",
    "            s_minus, tmp, C1, crit1 = build_naive_tree(s_minus, j, d, eps, j+1)\n",
    "        else: \n",
    "            tmp, s_plus, C1, crit1 = build_naive_tree(s_plus, j, d, eps, j+1)\n",
    "        if crit1 == 1: C = C + C1\n",
    "        crit = crit1\n",
    "        j = j + 1\n",
    "        if j==max_depth: break\n",
    "    return (C)"
   ]
  },
  {
   "cell_type": "code",
   "execution_count": 319,
   "metadata": {},
   "outputs": [],
   "source": [
    "def check_uturn(sample_right, sample_left):\n",
    "    theta_diff = sample_right.theta - sample_left.theta\n",
    "    "
   ]
  },
  {
   "cell_type": "code",
   "execution_count": 343,
   "metadata": {},
   "outputs": [
    {
     "ename": "IndexError",
     "evalue": "list index out of range",
     "output_type": "error",
     "traceback": [
      "\u001b[0;31m---------------------------------------------------------------------------\u001b[0m",
      "\u001b[0;31mIndexError\u001b[0m                                Traceback (most recent call last)",
      "\u001b[0;32m<ipython-input-343-806e2d2eb839>\u001b[0m in \u001b[0;36m<module>\u001b[0;34m\u001b[0m\n\u001b[1;32m      5\u001b[0m \u001b[0;34m\u001b[0m\u001b[0m\n\u001b[1;32m      6\u001b[0m \u001b[0ms1\u001b[0m \u001b[0;34m=\u001b[0m \u001b[0mC\u001b[0m\u001b[0;34m[\u001b[0m\u001b[0;36m0\u001b[0m\u001b[0;34m]\u001b[0m\u001b[0;34m\u001b[0m\u001b[0;34m\u001b[0m\u001b[0m\n\u001b[0;32m----> 7\u001b[0;31m \u001b[0ms2\u001b[0m \u001b[0;34m=\u001b[0m \u001b[0mC\u001b[0m\u001b[0;34m[\u001b[0m\u001b[0;36m1\u001b[0m\u001b[0;34m]\u001b[0m\u001b[0;34m\u001b[0m\u001b[0;34m\u001b[0m\u001b[0m\n\u001b[0m\u001b[1;32m      8\u001b[0m \u001b[0;34m\u001b[0m\u001b[0m\n\u001b[1;32m      9\u001b[0m \u001b[0mtheta_diff\u001b[0m \u001b[0;34m=\u001b[0m \u001b[0ms1\u001b[0m\u001b[0;34m.\u001b[0m\u001b[0mtheta\u001b[0m \u001b[0;34m-\u001b[0m \u001b[0ms2\u001b[0m\u001b[0;34m.\u001b[0m\u001b[0mtheta\u001b[0m\u001b[0;34m\u001b[0m\u001b[0;34m\u001b[0m\u001b[0m\n",
      "\u001b[0;31mIndexError\u001b[0m: list index out of range"
     ]
    },
    {
     "data": {
      "image/png": "[encoded data removed]",
      "text/plain": [
       "<Figure size 432x288 with 1 Axes>"
      ]
     },
     "metadata": {
      "needs_background": "light"
     },
     "output_type": "display_data"
    }
   ],
   "source": [
    "C = naive_NUTS(0.2)\n",
    "for sample in C:\n",
    "    sample.plot_sample()\n",
    "    sample.plot_momentum()\n",
    "\n",
    "s1 = C[0]\n",
    "s2 = C[1]\n",
    "\n",
    "theta_diff = s1.theta - s2.theta\n",
    "np.dot(theta_diff, -s1.r)"
   ]
  },
  {
   "cell_type": "code",
   "execution_count": 188,
   "metadata": {},
   "outputs": [],
   "source": [
    "nodes = [0]\n",
    "def build_tree(node, height, direction):\n",
    "    #print(\"------------------------------------------\")\n",
    "    #print(\"in node: \", node)\n",
    "    if height==0:\n",
    "        node_x = node + direction\n",
    "        nodes.append(node_x)\n",
    "        #print(\"new node: \", node_x)\n",
    "        #print(\"S2: applying probability stopping criterion!\")\n",
    "        return(node_x, node_x)\n",
    "    else:\n",
    "        node_n, node_p = build_tree(node, height-1, direction)\n",
    "        if direction==-1:\n",
    "            node_n, bla = build_tree(node_n, height-1, direction)\n",
    "        else:\n",
    "            bla, node_p = build_tree(node_p, height-1, direction)\n",
    "        print(\"S1: check for dot product between: \", node_p, \"(p) and \", node_n, \"(n)\")\n",
    "        return(node_n, node_p)\n",
    "    \n",
    "def naive_nuts_iteration():\n",
    "    node_p = 0\n",
    "    node_n = 0\n",
    "    j = 0\n",
    "    while(1):\n",
    "        print(\"+++++++++++++++++++++++++++++++++++++\")\n",
    "        v = 1\n",
    "        if np.random.randint(2)<1: v = -1\n",
    "        if v==-1:\n",
    " #           print(\"build left tree!\")\n",
    "            node_n, bla = build_tree(node_n, j, v)\n",
    "        else:\n",
    "#            print(\"build right tree!\")\n",
    "            bla, node_p = build_tree(node_p, j, v)\n",
    "        print(\"S1: check for dot product between: \", node_p, \"(p) and \", node_n, \"(n)\")\n",
    "        #if np.random.randint(7)<1: break\n",
    "        if j == 3 : break\n",
    "        j = j + 1\n",
    "    "
   ]
  },
  {
   "cell_type": "code",
   "execution_count": 179,
   "metadata": {},
   "outputs": [
    {
     "data": {
      "text/plain": [
       "[0, -1, -2, -3, 1, 2, 3, 4, 5, 6, 7, 8, 9, 10, 11, 12]"
      ]
     },
     "execution_count": 179,
     "metadata": {},
     "output_type": "execute_result"
    }
   ],
   "source": [
    "nodes"
   ]
  },
  {
   "cell_type": "code",
   "execution_count": 189,
   "metadata": {},
   "outputs": [
    {
     "name": "stdout",
     "output_type": "stream",
     "text": [
      "+++++++++++++++++++++++++++++++++++++\n",
      "S1: check for dot product between:  1 (p) and  0 (n)\n",
      "+++++++++++++++++++++++++++++++++++++\n",
      "S1: check for dot product between:  3 (p) and  2 (n)\n",
      "S1: check for dot product between:  3 (p) and  0 (n)\n",
      "+++++++++++++++++++++++++++++++++++++\n",
      "S1: check for dot product between:  5 (p) and  4 (n)\n",
      "S1: check for dot product between:  7 (p) and  6 (n)\n",
      "S1: check for dot product between:  7 (p) and  4 (n)\n",
      "S1: check for dot product between:  7 (p) and  0 (n)\n",
      "+++++++++++++++++++++++++++++++++++++\n",
      "S1: check for dot product between:  -1 (p) and  -2 (n)\n",
      "S1: check for dot product between:  -3 (p) and  -4 (n)\n",
      "S1: check for dot product between:  -1 (p) and  -4 (n)\n",
      "S1: check for dot product between:  -5 (p) and  -6 (n)\n",
      "S1: check for dot product between:  -7 (p) and  -8 (n)\n",
      "S1: check for dot product between:  -5 (p) and  -8 (n)\n",
      "S1: check for dot product between:  -1 (p) and  -8 (n)\n",
      "S1: check for dot product between:  7 (p) and  -8 (n)\n"
     ]
    }
   ],
   "source": [
    "naive_nuts_iteration()"
   ]
  }
 ],
 "metadata": {
  "kernelspec": {
   "display_name": "Python 3",
   "language": "python",
   "name": "python3"
  },
  "language_info": {
   "codemirror_mode": {
    "name": "ipython",
    "version": 3
   },
   "file_extension": ".py",
   "mimetype": "text/x-python",
   "name": "python",
   "nbconvert_exporter": "python",
   "pygments_lexer": "ipython3",
   "version": "3.7.4"
  }
 },
 "nbformat": 4,
 "nbformat_minor": 2
}
