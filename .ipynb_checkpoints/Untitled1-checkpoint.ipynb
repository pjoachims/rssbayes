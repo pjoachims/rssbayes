{
 "cells": [
  {
   "cell_type": "code",
   "execution_count": 1,
   "metadata": {},
   "outputs": [],
   "source": [
    "# testing the Build tree function"
   ]
  },
  {
   "cell_type": "code",
   "execution_count": 36,
   "metadata": {},
   "outputs": [],
   "source": [
    "import numpy as np"
   ]
  },
  {
   "cell_type": "code",
   "execution_count": 188,
   "metadata": {},
   "outputs": [],
   "source": [
    "nodes = [0]\n",
    "def build_tree(node, height, direction):\n",
    "    #print(\"------------------------------------------\")\n",
    "    #print(\"in node: \", node)\n",
    "    if height==0:\n",
    "        node_x = node+direction\n",
    "        nodes.append(node_x)\n",
    "        #print(\"new node: \", node_x)\n",
    "        #print(\"S2: applying probability stopping criterion!\")\n",
    "        return(node_x, node_x)\n",
    "    else:\n",
    "        node_n, node_p = build_tree(node, height-1, direction)\n",
    "        if direction==-1:\n",
    "            node_n, bla = build_tree(node_n, height-1, direction)\n",
    "        else:\n",
    "            bla, node_p = build_tree(node_p, height-1, direction)\n",
    "        print(\"S1: check for dot product between: \", node_p, \"(p) and \", node_n, \"(n)\")\n",
    "        return(node_n, node_p)\n",
    "    \n",
    "def naive_nuts_iteration():\n",
    "    node_p = 0\n",
    "    node_n = 0\n",
    "    j = 0\n",
    "    while(1):\n",
    "        print(\"+++++++++++++++++++++++++++++++++++++\")\n",
    "        v = 1\n",
    "        if np.random.randint(2)<1: v = -1\n",
    "        if v==-1:\n",
    " #           print(\"build left tree!\")\n",
    "            node_n, bla = build_tree(node_n, j, v)\n",
    "        else:\n",
    "#            print(\"build right tree!\")\n",
    "            bla, node_p = build_tree(node_p, j, v)\n",
    "        print(\"S1: check for dot product between: \", node_p, \"(p) and \", node_n, \"(n)\")\n",
    "        #if np.random.randint(7)<1: break\n",
    "        if j == 3 : break\n",
    "        j = j + 1\n",
    "    "
   ]
  },
  {
   "cell_type": "code",
   "execution_count": 179,
   "metadata": {},
   "outputs": [
    {
     "data": {
      "text/plain": [
       "[0, -1, -2, -3, 1, 2, 3, 4, 5, 6, 7, 8, 9, 10, 11, 12]"
      ]
     },
     "execution_count": 179,
     "metadata": {},
     "output_type": "execute_result"
    }
   ],
   "source": [
    "nodes"
   ]
  },
  {
   "cell_type": "code",
   "execution_count": 189,
   "metadata": {},
   "outputs": [
    {
     "name": "stdout",
     "output_type": "stream",
     "text": [
      "+++++++++++++++++++++++++++++++++++++\n",
      "S1: check for dot product between:  1 (p) and  0 (n)\n",
      "+++++++++++++++++++++++++++++++++++++\n",
      "S1: check for dot product between:  3 (p) and  2 (n)\n",
      "S1: check for dot product between:  3 (p) and  0 (n)\n",
      "+++++++++++++++++++++++++++++++++++++\n",
      "S1: check for dot product between:  5 (p) and  4 (n)\n",
      "S1: check for dot product between:  7 (p) and  6 (n)\n",
      "S1: check for dot product between:  7 (p) and  4 (n)\n",
      "S1: check for dot product between:  7 (p) and  0 (n)\n",
      "+++++++++++++++++++++++++++++++++++++\n",
      "S1: check for dot product between:  -1 (p) and  -2 (n)\n",
      "S1: check for dot product between:  -3 (p) and  -4 (n)\n",
      "S1: check for dot product between:  -1 (p) and  -4 (n)\n",
      "S1: check for dot product between:  -5 (p) and  -6 (n)\n",
      "S1: check for dot product between:  -7 (p) and  -8 (n)\n",
      "S1: check for dot product between:  -5 (p) and  -8 (n)\n",
      "S1: check for dot product between:  -1 (p) and  -8 (n)\n",
      "S1: check for dot product between:  7 (p) and  -8 (n)\n"
     ]
    }
   ],
   "source": [
    "naive_nuts_iteration()"
   ]
  }
 ],
 "metadata": {
  "kernelspec": {
   "display_name": "Python 3",
   "language": "python",
   "name": "python3"
  },
  "language_info": {
   "codemirror_mode": {
    "name": "ipython",
    "version": 3
   },
   "file_extension": ".py",
   "mimetype": "text/x-python",
   "name": "python",
   "nbconvert_exporter": "python",
   "pygments_lexer": "ipython3",
   "version": "3.7.4"
  }
 },
 "nbformat": 4,
 "nbformat_minor": 2
}
